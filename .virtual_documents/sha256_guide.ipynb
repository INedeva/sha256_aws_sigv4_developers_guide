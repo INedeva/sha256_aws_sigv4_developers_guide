





# To Create environment from YAML and add it as a Jupyter kernel, run this cell:
get_ipython().getoutput("echo "Creating conda environment from environment.yml (only if it does not exist already)..."")
get_ipython().getoutput("conda env list | findstr sha256_env > nul || conda env create -f environment.yml")
get_ipython().getoutput("echo "Registering Jupyter kernel..."")
get_ipython().getoutput("conda run -n sha256_env python -m ipykernel install --user --name sha256_env --display-name "Python (sha256_env)"")

print("Environment created. Manually switch kernel to: Python (sha256_env)")








get_ipython().run_line_magic("matplotlib", " inline ")


import matplotlib.pyplot as plt  
import numpy as np               
import pandas as pd      

import math
import time 
import os

import hashlib  # Standard library for secure hash algorithms (e.g., SHA256)
import hmac     # cryptographic signature generation and verification
import bcrypt   # Library for password hashing using bcrypt algorithm (secure password storage)

# Cryptography package for various low-level cryptographic primitives (hash, symmetric ciphers, key derivation functions,..)
from cryptography.hazmat.primitives import hashes
from cryptography.hazmat.backends import default_backend

# PyCryptodome module for cryptographic hashing using SHA256
from Crypto.Hash import SHA256

from numpy.polynomial import Polynomial


























def sha256_hash(text):
    return hashlib.sha256(text.encode('utf-8')).hexdigest()

# Inputs
input1 = "hello world"
input2 = "hello worle"  # Only last character changed

# Hashes
hash1 = sha256_hash(input1)
hash2 = sha256_hash(input2)

# Display results
print(f"Input 1: {input1}")
print(f"SHA-256: {hash1}\n")

print(f"Input 2: {input2}")
print(f"SHA-256: {hash2}\n")

# Bitwise difference count (optional detail)
bin1 = bin(int(hash1, 16))[2:].zfill(256)
bin2 = bin(int(hash2, 16))[2:].zfill(256)

bit_diff = sum(b1 != b2 for b1, b2 in zip(bin1, bin2))
print(f"Number of differing bits: {bit_diff} out of 256 ({bit_diff/256*100:.2f}%)")

















# Two known MD5-colliding byte sequences 
msg1 = bytes.fromhex(
    "d131dd02c5e6eec4 693d9a0698aff95c 2fcab58712467eab 4004583eb8fb7f89 55ad340609f4b302 83e488832571415a 085125e8f7cdc99f d91dbdf280373c5b d8823e3156348f5b ae6dacd436c919c6 dd53e2b487da03fd 02396306d248cda0 e99f33420f577ee8 ce54b67080a80d1e c69821bcb6a88393 96f9652b6ff72a70"
)

msg2 = bytes.fromhex(
 "d131dd02c5e6eec4 693d9a0698aff95c 2fcab50712467eab 4004583eb8fb7f89 55ad340609f4b302 83e4888325f1415a 085125e8f7cdc99f d91dbd7280373c5b d8823e3156348f5b ae6dacd436c919c6 dd53e23487da03fd 02396306d248cda0 e99f33420f577ee8 ce54b67080280d1e c69821bcb6a88393 96f965ab6ff72a70"  
)

# Calculate MD5 hashes
hash1 = hashlib.md5(msg1).hexdigest()
hash2 = hashlib.md5(msg2).hexdigest()

# Output the result
print("Messages equal:", msg1 == msg2)
print("MD5(msg1):", hash1)
print("MD5(msg2):", hash2)
print("Collision occurred?", hash1 == hash2)








def sha256_collision_probability_manual(number_of_inputs):
    """
    Calculate the exact probability of a collision occurring among number_of_inputs
    hashed with SHA-256 (256-bit hash space), using the combinatorial approach.
    Only feasible for small num_inputs (e.g., < 10,000).
    """

    number_of_bits = 256
    N = 2 ** number_of_bits  # Total possible unique hash values
    r = number_of_inputs

    if r > N:
        return 1.0  # Pigeonhole principle: definite collision

    numerator = 1
    for i in range(r):
        numerator *= (N - i)

    denominator = N ** r

    p_no_collision = numerator / denominator
    p_collision = 1 - p_no_collision

    return p_collision


sha256_collision_probability_manual(10000)





def collision_probability_sha256_approximation(r):
    """
    Approximate collision probability for SHA-256 using the birthday bound:
    p ≈ 1 - exp(-r*(r-1) / (2 * 2^256))
    """
    N = 2 ** 256
    exponent = - (r * (r - 1)) / (2 * N)
    probability = 1 - math.exp(exponent)
    return probability

# Try with various values of r
r_values = [2**num for num in range(32, 200, 4)]
probabilities = [(r, collision_probability_sha256_approximation(r)) for r in r_values]

# Display results in a DataFrame
df = pd.DataFrame(probabilities, columns=["Number of Inputs (r)", "Collision Probability"])
df


# Plot
plt.figure(figsize=(10, 6))
plt.plot(df["Number of Inputs (r)"], df["Collision Probability"], marker='o')
plt.xscale('log', base=2)

plt.title("SHA-256 Collision Probability vs Number of Inputs (CMD - Cumullative probability function)")
plt.xlabel("Number of Inputs (r) ")
plt.ylabel("Collision Probability")
plt.grid(True)
plt.axhline(y=0.5, color='red', linestyle='--', label='p = 0.5')
plt.legend()
plt.show()








# constant
PEPPER = b"SuperSecretGlobalPepper" 

# Returs a bytes object with random bytes with the provided length
salt = os.urandom(16) 

# User input in Unicode
password = "password123"

hash_withour_salt = hashlib.sha256(password.encode()).hexdigest()

# Hashing with salt + pepper and password in binary
hash_input = salt + password.encode() + PEPPER
final_hash = hashlib.sha256(hash_input).hexdigest()

print(f"Salt (hex): {salt.hex()}")
print(f"Pure hash: {hash_withour_salt}")
print(f"Final salted+peppered hash: {final_hash}")





# bad manual stretching
myPass = "myPass"
myHash = myPass.encode()
for _ in range(100000):
    myHash = hashlib.sha256(myHash).digest()
myHash.hex()





# Hash
password = b"mysecret"

# .gensalt() - generates random salt
# rounds - how many rounds/iterations of hashing should be performed, it is 2^12 = 4096 times 
hashed = bcrypt.hashpw(password, bcrypt.gensalt(rounds=12))

# output is in format : $<version of the algorithm>$<cost/iterations>$<22-char-salt><31-char-hash>
print(hashed)

# Extracts the salt, re-hashes the provided pass and compares the result
bcrypt.checkpw(password, hashed)




















value = (2 * 10**3) + (0 * 10**2) + (0 * 10**1) + (3 * 10**0)
"Decimal value:", value


binary_str = "1011"
decimal_from_binary = int(binary_str, 2)
f"Binary {binary_str} as decimal is {decimal_from_binary}"


hex_str = "123A"
decimal_from_hex = int(hex_str, 16)
f"Hex {hex_str} as decimal is {decimal_from_hex}"





# Binary, Decimal, and Hex conversion
number = 42
print("Binary:", bin(number))       # Prefix: 0b
print("Hexadecimal:", hex(number))  # Prefix: 0x
print("Decimal:", number)           # No prefix


# Bitwise AND
print("7 & 6 =", 7 & 6)


# Bitwise OR
print("5 | 6 =", 5 | 6)


# bitwise XOR
print("5 ^ 6 =", 5 ^ 6)


# bitwise NOT
print("~5 =", ~5)  


# Right shift
print("20 >> 2 =", 20 >> 2)


# Left shift 
print("5 << 2 =", 5 << 2)





a = 2**32 + 25
mod_result = a % (2**32)
print(f"{a} % 2^32 = {mod_result}")














message = "MathForDevs"

# Step 1: Convert input to binary 
# In python b'MathForDevs' -> Object in C# [0x4D, 0x61, 0x74, 0x68, 0x46, 0x6F, 0x72, 0x44, 0x65, 0x76, 0x73] (HEX from ASCII table)
message_bytes = message.encode('utf-8') 
# ':08b' is a formatting instruction, b-binary, 08 - pad with zeros until len == 8 chars
message_bit_string = ''.join(f'{byte:08b}' for byte in message_bytes)
message_bit_string


# Step 2: Pad the input so that its length ≡ 448 mod 512
original_length = len(message_bit_string)
message_bit_string += '1'  # Append single '1' bit
while (len(message_bit_string) + 64) % 512 != 0:
    message_bit_string += '0'  # Append '0' bits
message_bit_string


# Step 3: Append original message length (64-bit big-endian*)
original_length_bits = f'{original_length:064b}'
message_bit_string += original_length_bits
(original_length, original_length_bits, len(message_bit_string))


# Final padded message in binary
padded_binary_length = len(message_bit_string)
padded_binary_preview = message_bit_string[:512]  # Only the first chunk





# Helper functions 
def rotr(x, n):
    """
    Perform a bitwise right rotation (circular shift) on a 32-bit integer.

    This operation rotates the bits of x to the right by n positions.
    Bits that fall off the right end reappear on the left.

    Formula:
        ROTRⁿ(x) = (x >> n) | (x << (32 - n))

    Args:
        x (int): 32-bit unsigned integer
        n (int): Number of bits to rotate

    Returns:
        int: Rotated 32-bit integer, masked to 32 bits
    """
    return ((x >> n) | (x << (32 - n))) & 0xFFFFFFFF


def shr(x, n):
    """
    Perform a logical right shift on a 32-bit integer.

    This shifts the bits of x to the right by n positions.
    Unlike ROTR, shifted-in bits on the left are always 0.
    
    Note: In Python, this works the same for signed and unsigned ints
    because Python integers are arbitrary-precision.

    Formula:
        SHRⁿ(x) = x >> n

    Args:
        x (int): Integer to shift
        n (int): Number of bits to shift

    Returns:
        int: Shifted integer
    """
    return x >> n


def sigma0(x):
    """
    SHA-256 lower-case sigma₀ function.

    This function introduces non-linearity and diffusion using:
    - 2 right rotations (7 and 18 bits)
    - 1 logical right shift (3 bits)

    Formula:
        σ₀(x) = ROTR⁷(x) XOR ROTR¹⁸(x) XOR SHR³(x)

    Args:
        x (int): 32-bit integer

    Returns:
        int: Result of the σ₀ function
    """
    return rotr(x, 7) ^ rotr(x, 18) ^ shr(x, 3)


def sigma1(x):
    """
    SHA-256 lower-case sigma₁ function.

    Similar to σ₀, but uses different bit positions:
    - 2 right rotations (17 and 19 bits)
    - 1 logical right shift (10 bits)

    Formula:
        σ₁(x) = ROTR¹⁷(x) XOR ROTR¹⁹(x) XOR SHR¹⁰(x)

    Args:
        x (int): 32-bit integer

    Returns:
        int: Result of the σ₁ function
    """
    return rotr(x, 17) ^ rotr(x, 19) ^ shr(x, 10)



# Convert the 512-bit block into 16 32-bit words (W[0..15])
block_words = [int(padded_binary_preview[i:i+32], 2) for i in range(0, 512, 32)]


# Extend to W[0..63]
W = block_words + [0] * (64 - 16)

for i in range(16, 64):
    W[i] = (sigma1(W[i-2]) + W[i-7] + sigma0(W[i-15]) + W[i-16]) & 0xFFFFFFFF


# first 20 messages of the message schedule
W[:20]





# Initial hash values (first 32 bits of the fractional parts of the square roots of the first 8 primes)
H = [
    0x6a09e667,
    0xbb67ae85,
    0x3c6ef372,
    0xa54ff53a,
    0x510e527f,
    0x9b05688c,
    0x1f83d9ab,
    0x5be0cd19
]


# Round constants (first 32 bits of the fractional parts of the cube roots of the first 64 primes)
K = [
    0x428a2f98, 0x71374491, 0xb5c0fbcf, 0xe9b5dba5, 0x3956c25b, 0x59f111f1, 0x923f82a4, 0xab1c5ed5,
    0xd807aa98, 0x12835b01, 0x243185be, 0x550c7dc3, 0x72be5d74, 0x80deb1fe, 0x9bdc06a7, 0xc19bf174,
    0xe49b69c1, 0xefbe4786, 0x0fc19dc6, 0x240ca1cc, 0x2de92c6f, 0x4a7484aa, 0x5cb0a9dc, 0x76f988da,
    0x983e5152, 0xa831c66d, 0xb00327c8, 0xbf597fc7, 0xc6e00bf3, 0xd5a79147, 0x06ca6351, 0x14292967,
    0x27b70a85, 0x2e1b2138, 0x4d2c6dfc, 0x53380d13, 0x650a7354, 0x766a0abb, 0x81c2c92e, 0x92722c85,
    0xa2bfe8a1, 0xa81a664b, 0xc24b8b70, 0xc76c51a3, 0xd192e819, 0xd6990624, 0xf40e3585, 0x106aa070,
    0x19a4c116, 0x1e376c08, 0x2748774c, 0x34b0bcb5, 0x391c0cb3, 0x4ed8aa4a, 0x5b9cca4f, 0x682e6ff3,
    0x748f82ee, 0x78a5636f, 0x84c87814, 0x8cc70208, 0x90befffa, 0xa4506ceb, 0xbef9a3f7, 0xc67178f2
]


# Helper compression functions 
def Ch(x, y, z):
    """
    SHA-256 'Choose' function.
    
    For each bit position, returns the bit from y if x is 1, else from z.

    Formula:
        Ch(x, y, z) = (x AND y) XOR (NOT x AND z)

    Args:
        x (int): 32-bit integer
        y (int): 32-bit integer
        z (int): 32-bit integer

    Returns:
        int: Result of the Ch function
    """
    return (x & y) ^ (~x & z)


def Maj(x, y, z):
    """
    SHA-256 'Majority' function.

    For each bit position, returns the majority value of x, y, and z.

    Formula:
        Maj(x, y, z) = (x AND y) XOR (x AND z) XOR (y AND z)

    Args:
        x (int): 32-bit integer
        y (int): 32-bit integer
        z (int): 32-bit integer

    Returns:
        int: Result of the Maj function
    """
    return (x & y) ^ (x & z) ^ (y & z)


def Sigma0(x):
    """
    SHA-256 upper-case Sigma0 function.

    Applies right rotations to introduce diffusion.

    Formula:
        Σ₀(x) = ROTR²(x) XOR ROTR¹³(x) XOR ROTR²²(x)

    Args:
        x (int): 32-bit integer

    Returns:
        int: Result of the Σ₀ function
    """
    return rotr(x, 2) ^ rotr(x, 13) ^ rotr(x, 22)


def Sigma1(x):
    """
    SHA-256 upper-case Sigma1 function.

    Applies right rotations to introduce diffusion.

    Formula:
        Σ₁(x) = ROTR⁶(x) XOR ROTR¹¹(x) XOR ROTR²⁵(x)

    Args:
        x (int): 32-bit integer

    Returns:
        int: Result of the Σ₁ function
    """
    return rotr(x, 6) ^ rotr(x, 11) ^ rotr(x, 25)



# Initialize working variables with current hash values
a, b, c, d, e, f, g, h = H
a


# Compression loop
rounds = []
for i in range(64):
    T1 = (h + Sigma1(e) + Ch(e, f, g) + K[i] + W[i]) & 0xFFFFFFFF
    T2 = (Sigma0(a) + Maj(a, b, c)) & 0xFFFFFFFF
    h = g
    g = f
    f = e
    e = (d + T1) & 0xFFFFFFFF
    d = c
    c = b
    b = a
    a = (T1 + T2) & 0xFFFFFFFF
    rounds.append([i, a, b, c, d, e, f, g, h])


df_rounds = pd.DataFrame(rounds, columns=["Round", "a", "b", "c", "d", "e", "f", "g", "h"])
df_rounds


# Restore final values from last round
a, b, c, d, e, f, g, h = rounds[-1][1:]

# Update the hash values
H[0] = (H[0] + a) & 0xFFFFFFFF
H[1] = (H[1] + b) & 0xFFFFFFFF
H[2] = (H[2] + c) & 0xFFFFFFFF
H[3] = (H[3] + d) & 0xFFFFFFFF
H[4] = (H[4] + e) & 0xFFFFFFFF
H[5] = (H[5] + f) & 0xFFFFFFFF
H[6] = (H[6] + g) & 0xFFFFFFFF
H[7] = (H[7] + h) & 0xFFFFFFFF





# Final hash: concatenate all 8 words as 32-bit hex strings
final_hash = ''.join(f'{value:08x}' for value in H)
final_hash














message = "MathForDevs"
hash_bytes = hashlib.sha256(message.encode('utf-8')).digest()
hash_hex = hashlib.sha256(message.encode('utf-8')).hexdigest()

(hash_bytes, hash_hex)


hash_result = hashlib.sha256(message.encode('utf-8')).hexdigest()
hash_result


final_hash == hash_result





digest = hashes.Hash(hashes.SHA256(), backend=default_backend())
digest.update(b"MathForDevs")
crypto_result = digest.finalize().hex()

crypto_result


final_hash == crypto_result





message = b"MathForDevs"
dome_result = SHA256.new(message).hexdigest()

dome_result


final_hash == dome_result





sha256 = hashlib.sha256()
with open("environment.yml", "rb") as file:
    for chunk in iter(lambda: file.read(4096), b""):
        sha256.update(chunk)

("File hash: " + sha256.hexdigest())





























# built-in HMAC
key = b"MathForDevs"
message = b"hello world"

hmac_digest = hmac.new(key, message, hashlib.sha256).hexdigest()
"HMAC-SHA256 (built-in):", hmac_digest



# manual HMAC implementation 
def manual_hmac_sha256(key, message):
    block_size = 64  # SHA-256 block size

    # Step 1: Normalize the key
    if len(key) > block_size:
        key = hashlib.sha256(key).digest()
    key = key.ljust(block_size, b'\x00')  # Pad with zeros

    # Step 2: Create ipad and opad
    ipad = bytes([b ^ 0x36 for b in key])
    opad = bytes([b ^ 0x5c for b in key])

    # Step 3: Hash inner and outer
    inner = hashlib.sha256(ipad + message).digest()
    outer = hashlib.sha256(opad + inner).hexdigest()
    return outer

"HMAC-SHA256 (manual):   ", manual_hmac_sha256(b"MathForDevs", b"hello world")



hmac_digest == manual_hmac_sha256(b"MathForDevs", b"hello world")



































import hashlib, hmac, datetime
import urllib.parse
import http.client

# Sample AWS credentials (replace with your actual ones or load from env)
access_key = 'AKIAEXAMPLE'
secret_key = 'wJalrXUtnFEMI/K7MDENG+bPxRfiCYEXAMPLEKEY'


# Request target
host = 'sts.amazonaws.com'
region = 'us-east-1'
service = 'sts'
endpoint = f'https://{host}/'
method = 'GET'
request_parameters = 'Action=GetCallerIdentity&Version=2011-06-15'

# Timestamp
t = datetime.datetime.utcnow()
amz_date = t.strftime('%Y%m%dT%H%M%SZ')
date_stamp = t.strftime('%Y%m%d')





canonical_uri = '/'
canonical_querystring = '&'.join(sorted(request_parameters.split('&')))
canonical_headers = f'host:{host}\n' + f'x-amz-date:{amz_date}\n'
signed_headers = 'host;x-amz-date'
payload_hash = hashlib.sha256(('').encode('utf-8')).hexdigest()

canonical_request = '\n'.join([
    method,
    canonical_uri,
    canonical_querystring,
    canonical_headers,
    signed_headers,
    payload_hash
])





algorithm = 'AWS4-HMAC-SHA256'
credential_scope = f'{date_stamp}/{region}/{service}/aws4_request'
canonical_request_hash = hashlib.sha256(canonical_request.encode('utf-8')).hexdigest()

string_to_sign = '\n'.join([
    algorithm,
    amz_date,
    credential_scope,
    canonical_request_hash
])





def sign(key, msg):
    return hmac.new(key, msg.encode('utf-8'), hashlib.sha256).digest()

k_secret = ('AWS4' + secret_key).encode('utf-8')
k_date = sign(k_secret, date_stamp)
k_region = sign(k_date, region)
k_service = sign(k_region, service)
k_signing = sign(k_service, 'aws4_request')





signature = hmac.new(k_signing, string_to_sign.encode('utf-8'), hashlib.sha256).hexdigest()





authorization_header = (
    f'{algorithm} '
    f'Credential={access_key}/{credential_scope}, '
    f'SignedHeaders={signed_headers}, '
    f'Signature={signature}'
)

headers = {
    'x-amz-date': amz_date,
    'Authorization': authorization_header
}





conn = http.client.HTTPSConnection(host)
conn.request(method, f'/?{canonical_querystring}', headers=headers)
response = conn.getresponse()
print(response.status, response.reason)
print(response.read().decode())





















